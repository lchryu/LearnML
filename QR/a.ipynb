{
 "cells": [
  {
   "cell_type": "code",
   "execution_count": 4,
   "metadata": {},
   "outputs": [],
   "source": [
    "from os import system\n",
    "import csv"
   ]
  },
  {
   "cell_type": "code",
   "execution_count": 6,
   "metadata": {},
   "outputs": [],
   "source": [
    "class Student:\n",
    "    def __init__(self, student_id, name, age, grade):\n",
    "        self.student_id = student_id\n",
    "        self.name = name\n",
    "        self.age = age\n",
    "        self.grade = grade\n",
    "\n",
    "    def __str__(self):\n",
    "        return f\"{self.student_id}, {self.name}, {self.age}, {self.grade}\""
   ]
  },
  {
   "cell_type": "code",
   "execution_count": 3,
   "metadata": {},
   "outputs": [],
   "source": [
    "class StudentManager:\n",
    "    def __init__(self, filename='student.csv'):\n",
    "        self.filename = filename\n",
    "        self.students = []\n",
    "        self.load_data()\n",
    "        \n",
    "    def load_data(self):\n",
    "        # load data from csv file\n",
    "        try:\n",
    "            with open(self.filename, mode = 'r') as file:\n",
    "                reader = csv.reader(file)\n",
    "                self.students = [Student(*row) for row in reader]\n",
    "        except FileNotFoundError:\n",
    "            self.students = []\n",
    "            \n",
    "    def save_data(self):\n",
    "        '''save data to csv file'''\n",
    "        with open(self.filename, mode='w', newline='') as file:\n",
    "            writer = csv.writer(file)\n",
    "            for student in self.students:\n",
    "                writer.writerow([student.student_id, student.name, student.age, student.grade])\n",
    "    def add_student(self, student):\n",
    "        # add new student\n",
    "        self.students.append(student)\n",
    "        self.save_data()\n",
    "        \n",
    "    def update_student(self, student_id, name=None, age=None, grade=None):\n",
    "        # Update information for student\n",
    "        for student in self.students:\n",
    "            if student.student_id == student_id:\n",
    "                if name: student.name = name\n",
    "                if age: student.age = age\n",
    "                if grade: student.grade = grade\n",
    "                self.save_data()\n",
    "                return True\n",
    "        return False\n",
    "    \n",
    "    def delete_student(self, student_id):\n",
    "        \"\"\"delete student\"\"\"\n",
    "        self.students = [student for student in self.students if student.student_id != student_id]\n",
    "        self.save_data()\n",
    "        \n",
    "    def display_students(self):\n",
    "        for student in self.students:\n",
    "            print(student)"
   ]
  },
  {
   "cell_type": "code",
   "execution_count": 4,
   "metadata": {},
   "outputs": [
    {
     "name": "stdout",
     "output_type": "stream",
     "text": [
      "\n",
      "Student Management System\n",
      "1. Add student\n",
      "2. Update student\n",
      "3. Delete student\n",
      "4. Display students\n",
      "5. Exit\n"
     ]
    },
    {
     "ename": "NameError",
     "evalue": "name 'Student' is not defined",
     "output_type": "error",
     "traceback": [
      "\u001b[1;31m---------------------------------------------------------------------------\u001b[0m",
      "\u001b[1;31mNameError\u001b[0m                                 Traceback (most recent call last)",
      "Cell \u001b[1;32mIn[4], line 43\u001b[0m\n\u001b[0;32m     40\u001b[0m             \u001b[38;5;28mprint\u001b[39m(\u001b[38;5;124m\"\u001b[39m\u001b[38;5;124mInvalid choice. Please try again.\u001b[39m\u001b[38;5;124m\"\u001b[39m)\n\u001b[0;32m     42\u001b[0m \u001b[38;5;28;01mif\u001b[39;00m \u001b[38;5;18m__name__\u001b[39m \u001b[38;5;241m==\u001b[39m \u001b[38;5;124m\"\u001b[39m\u001b[38;5;124m__main__\u001b[39m\u001b[38;5;124m\"\u001b[39m:\n\u001b[1;32m---> 43\u001b[0m     \u001b[43mmain\u001b[49m\u001b[43m(\u001b[49m\u001b[43m)\u001b[49m\n",
      "Cell \u001b[1;32mIn[4], line 19\u001b[0m, in \u001b[0;36mmain\u001b[1;34m()\u001b[0m\n\u001b[0;32m     17\u001b[0m     age \u001b[38;5;241m=\u001b[39m \u001b[38;5;28minput\u001b[39m(\u001b[38;5;124m\"\u001b[39m\u001b[38;5;124mEnter age: \u001b[39m\u001b[38;5;124m\"\u001b[39m)\n\u001b[0;32m     18\u001b[0m     grade \u001b[38;5;241m=\u001b[39m \u001b[38;5;28minput\u001b[39m(\u001b[38;5;124m\"\u001b[39m\u001b[38;5;124mEnter grade: \u001b[39m\u001b[38;5;124m\"\u001b[39m)\n\u001b[1;32m---> 19\u001b[0m     student \u001b[38;5;241m=\u001b[39m \u001b[43mStudent\u001b[49m(student_id, name, age, grade)\n\u001b[0;32m     20\u001b[0m     manager\u001b[38;5;241m.\u001b[39madd_student(student)\n\u001b[0;32m     22\u001b[0m \u001b[38;5;28;01melif\u001b[39;00m choice \u001b[38;5;241m==\u001b[39m \u001b[38;5;124m'\u001b[39m\u001b[38;5;124m2\u001b[39m\u001b[38;5;124m'\u001b[39m:\n",
      "\u001b[1;31mNameError\u001b[0m: name 'Student' is not defined"
     ]
    }
   ],
   "source": [
    "def main():\n",
    "    manager = StudentManager()\n",
    "\n",
    "    while True:\n",
    "        print(\"\\nStudent Management System\")\n",
    "        print(\"1. Add student\")\n",
    "        print(\"2. Update student\")\n",
    "        print(\"3. Delete student\")\n",
    "        print(\"4. Display students\")\n",
    "        print(\"5. Exit\")\n",
    "\n",
    "        choice = input(\"Choose an option: \")\n",
    "\n",
    "        if choice == '1':\n",
    "            student_id = input(\"Enter student ID: \")\n",
    "            name = input(\"Enter name: \")\n",
    "            age = input(\"Enter age: \")\n",
    "            grade = input(\"Enter grade: \")\n",
    "            student = Student(student_id, name, age, grade)\n",
    "            manager.add_student(student)\n",
    "\n",
    "        elif choice == '2':\n",
    "            student_id = input(\"Enter student ID to update: \")\n",
    "            name = input(\"Enter new name (or leave blank): \")\n",
    "            age = input(\"Enter new age (or leave blank): \")\n",
    "            grade = input(\"Enter new grade (or leave blank): \")\n",
    "            manager.update_student(student_id, name or None, age or None, grade or None)\n",
    "\n",
    "        elif choice == '3':\n",
    "            student_id = input(\"Enter student ID to delete: \")\n",
    "            manager.delete_student(student_id)\n",
    "\n",
    "        elif choice == '4':\n",
    "            manager.display_students()\n",
    "\n",
    "        elif choice == '5':\n",
    "            break\n",
    "\n",
    "        else:\n",
    "            print(\"Invalid choice. Please try again.\")\n",
    "\n",
    "if __name__ == \"__main__\":\n",
    "    main()\n"
   ]
  }
 ],
 "metadata": {
  "kernelspec": {
   "display_name": "Python 3",
   "language": "python",
   "name": "python3"
  },
  "language_info": {
   "codemirror_mode": {
    "name": "ipython",
    "version": 3
   },
   "file_extension": ".py",
   "mimetype": "text/x-python",
   "name": "python",
   "nbconvert_exporter": "python",
   "pygments_lexer": "ipython3",
   "version": "3.12.4"
  }
 },
 "nbformat": 4,
 "nbformat_minor": 2
}
