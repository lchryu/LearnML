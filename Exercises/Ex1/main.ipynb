{
 "cells": [
  {
   "cell_type": "code",
   "execution_count": 1,
   "metadata": {},
   "outputs": [
    {
     "name": "stdout",
     "output_type": "stream",
     "text": [
      "Positive numbers: 5\n",
      "Negative numbers: 7\n"
     ]
    }
   ],
   "source": [
    "# Ex1: Write a program to count positive and negative numbers in a list\n",
    "data1 = [-10, -21, -4, -45, -66, 93, 11, -4, -6, 12, 11, 4]\n",
    "\n",
    "# Initialize counters\n",
    "positive_count = 0\n",
    "negative_count = 0\n",
    "\n",
    "# Loop through the list\n",
    "for num in data1:\n",
    "    if num > 0:\n",
    "        positive_count += 1\n",
    "    elif num < 0:\n",
    "        negative_count += 1\n",
    "\n",
    "# Output the results\n",
    "print(f\"Positive numbers: {positive_count}\")\n",
    "print(f\"Negative numbers: {negative_count}\")\n"
   ]
  },
  {
   "cell_type": "code",
   "execution_count": 4,
   "metadata": {},
   "outputs": [
    {
     "name": "stdout",
     "output_type": "stream",
     "text": [
      "Elements with frequency greater than 3: [4, 3]\n"
     ]
    }
   ],
   "source": [
    "# Ex2: Given a list, extract all elements whose frequency is greater than k.\n",
    "\n",
    "from collections import Counter\n",
    "\n",
    "data2 = [4, 6, 4, 3, 3, 4, 3, 4, 3, 8]\n",
    "k = 3\n",
    "\n",
    "# Count the frequency of each element\n",
    "frequency = Counter(data2)\n",
    "\n",
    "# Extract elements whose frequency is greater than k\n",
    "result = [item for item, count in frequency.items() if count > k]\n",
    "\n",
    "# Output the result\n",
    "print(f\"Elements with frequency greater than {k}: {result}\")\n"
   ]
  },
  {
   "cell_type": "code",
   "execution_count": 5,
   "metadata": {},
   "outputs": [
    {
     "name": "stdout",
     "output_type": "stream",
     "text": [
      "The strongest neighbours are: [5, 6, 7, 7, 9, 11, 11, 10]\n"
     ]
    }
   ],
   "source": [
    "# Ex3: find the strongest neighbour. Given an array of N positive integers.\n",
    "# The task is to find the maximum for every adjacent pair in the array.\n",
    "data3 = [4, 5, 6, 7, 3, 9, 11, 2, 10]\n",
    "\n",
    "def find_strongest_neighbour(arr):\n",
    "    result = []\n",
    "    for i in range(len(arr) - 1):\n",
    "        # Find the maximum of each adjacent pair\n",
    "        result.append(max(arr[i], arr[i + 1]))\n",
    "    return result\n",
    "\n",
    "# Output the result\n",
    "strongest_neighbours = find_strongest_neighbour(data3)\n",
    "print(f\"The strongest neighbours are: {strongest_neighbours}\")\n"
   ]
  },
  {
   "cell_type": "code",
   "execution_count": 6,
   "metadata": {},
   "outputs": [
    {
     "name": "stdout",
     "output_type": "stream",
     "text": [
      "All possible combinations are:\n",
      "(1, 2, 3)\n",
      "(1, 3, 2)\n",
      "(2, 1, 3)\n",
      "(2, 3, 1)\n",
      "(3, 1, 2)\n",
      "(3, 2, 1)\n"
     ]
    }
   ],
   "source": [
    "import itertools\n",
    "\n",
    "data4 = [1, 2, 3]\n",
    "\n",
    "# Generate all possible combinations of the three digits\n",
    "combinations = list(itertools.permutations(data4, 3))\n",
    "\n",
    "# Output the result\n",
    "print(\"All possible combinations are:\")\n",
    "for combo in combinations:\n",
    "    print(combo)\n"
   ]
  },
  {
   "cell_type": "code",
   "execution_count": 1,
   "metadata": {},
   "outputs": [
    {
     "name": "stdout",
     "output_type": "stream",
     "text": [
      "[[4, 3, 5, 1, 3], [1, 2, 3, 9, 3, 5, 7], [3, 7, 4, 8]]\n"
     ]
    }
   ],
   "source": [
    "# Ex5: Given two matrices (2 nested lists), the task is to write a Python program\n",
    "# to add elements to each row from initial matrix.\n",
    "# For example: Input : test_list1 = [[4, 3, 5,], [1, 2, 3], [3, 7, 4]], test_list2 = [[1], [9], [8]]\n",
    "# Output : [[4, 3, 5, 1], [1, 2, 3, 9], [3, 7, 4, 8]]\n",
    "data5_list1 = [[4, 3, 5, ], [1, 2, 3], [3, 7, 4]]\n",
    "data5_list2 = [[1, 3], [9, 3, 5, 7], [8]]\n",
    "\n",
    "# Input lists\n",
    "data5_list1 = [[4, 3, 5], [1, 2, 3], [3, 7, 4]]\n",
    "data5_list2 = [[1, 3], [9, 3, 5, 7], [8]]\n",
    "\n",
    "# Adding elements from list2 to corresponding rows in list1\n",
    "result = [row1 + row2 for row1, row2 in zip(data5_list1, data5_list2)]\n",
    "\n",
    "# Output the result\n",
    "print(result)\n"
   ]
  },
  {
   "cell_type": "code",
   "execution_count": 2,
   "metadata": {},
   "outputs": [
    {
     "name": "stdout",
     "output_type": "stream",
     "text": [
      "2002,2009,2016,2023,2037,2044,2051,2058,2072,2079,2086,2093,2107,2114,2121,2128,2142,2149,2156,2163,2177,2184,2191,2198,2212,2219,2226,2233,2247,2254,2261,2268,2282,2289,2296,2303,2317,2324,2331,2338,2352,2359,2366,2373,2387,2394,2401,2408,2422,2429,2436,2443,2457,2464,2471,2478,2492,2499,2506,2513,2527,2534,2541,2548,2562,2569,2576,2583,2597,2604,2611,2618,2632,2639,2646,2653,2667,2674,2681,2688,2702,2709,2716,2723,2737,2744,2751,2758,2772,2779,2786,2793,2807,2814,2821,2828,2842,2849,2856,2863,2877,2884,2891,2898,2912,2919,2926,2933,2947,2954,2961,2968,2982,2989,2996,3003,3017,3024,3031,3038,3052,3059,3066,3073,3087,3094,3101,3108,3122,3129,3136,3143,3157,3164,3171,3178,3192,3199\n"
     ]
    }
   ],
   "source": [
    "# Ex6:  Write a program which will find all such numbers which are divisible by 7\n",
    "# but are not a multiple of 5, between 2000 and 3200 (both included).\n",
    "# The numbers obtained should be printed in a comma-separated sequence on a single line.\n",
    "\n",
    "# Initialize an empty list to store the result\n",
    "result = []\n",
    "\n",
    "# Loop through the numbers from 2000 to 3200 (both included)\n",
    "for number in range(2000, 3201):\n",
    "    # Check if the number is divisible by 7 but not by 5\n",
    "    if number % 7 == 0 and number % 5 != 0:\n",
    "        result.append(str(number))  # Add the number to the list as a string\n",
    "\n",
    "# Join the list into a single comma-separated string and print it\n",
    "print(\",\".join(result))\n"
   ]
  },
  {
   "cell_type": "code",
   "execution_count": 3,
   "metadata": {},
   "outputs": [
    {
     "name": "stdout",
     "output_type": "stream",
     "text": [
      "2000,2002,2004,2006,2008,2020,2022,2024,2026,2028,2040,2042,2044,2046,2048,2060,2062,2064,2066,2068,2080,2082,2084,2086,2088,2200,2202,2204,2206,2208,2220,2222,2224,2226,2228,2240,2242,2244,2246,2248,2260,2262,2264,2266,2268,2280,2282,2284,2286,2288,2400,2402,2404,2406,2408,2420,2422,2424,2426,2428,2440,2442,2444,2446,2448,2460,2462,2464,2466,2468,2480,2482,2484,2486,2488,2600,2602,2604,2606,2608,2620,2622,2624,2626,2628,2640,2642,2644,2646,2648,2660,2662,2664,2666,2668,2680,2682,2684,2686,2688,2800,2802,2804,2806,2808,2820,2822,2824,2826,2828,2840,2842,2844,2846,2848,2860,2862,2864,2866,2868,2880,2882,2884,2886,2888\n"
     ]
    }
   ],
   "source": [
    "# Ex7: Write a program, which will find all such numbers between 1000 and 3000 (both included) such that each digit of the number is an even number.\n",
    "# The numbers obtained should be printed in a comma-separated sequence on a single line.\n",
    "\n",
    "# Initialize an empty list to store the result\n",
    "result = []\n",
    "\n",
    "# Loop through the numbers from 1000 to 3000 (both included)\n",
    "for number in range(1000, 3001):\n",
    "    # Convert the number to a string to check each digit\n",
    "    str_number = str(number)\n",
    "    \n",
    "    # Check if all digits are even\n",
    "    if all(int(digit) % 2 == 0 for digit in str_number):\n",
    "        result.append(str_number)  # Add the number to the list if condition is met\n",
    "\n",
    "# Join the list into a single comma-separated string and print it\n",
    "print(\",\".join(result))\n"
   ]
  },
  {
   "cell_type": "code",
   "execution_count": 5,
   "metadata": {},
   "outputs": [
    {
     "name": "stdout",
     "output_type": "stream",
     "text": [
      "cat -> atheistical -> albedo -> dog\n"
     ]
    }
   ],
   "source": [
    "# Ex8: Let user type 2 words in English as input. Print out the output\n",
    "# which is the shortest chain according to the following rules:\n",
    "# - Each word in the chain has at least 3 letters\n",
    "# - The 2 input words from user will be used as the first and the last words of the chain\n",
    "# - 2 last letters of 1 word will be the same as 2 first letters of the next word in the chain\n",
    "# - All the words are from the file wordsEn.txt\n",
    "# - If there are multiple shortest chains, return any of them is sufficient\n",
    "\n",
    "from collections import deque\n",
    "\n",
    "# Read words from the file\n",
    "def load_words(filename):\n",
    "    with open(filename, 'r') as file:\n",
    "        return [word.strip() for word in file if len(word.strip()) >= 3]\n",
    "\n",
    "# Function to find the shortest chain between two words\n",
    "def find_shortest_chain(start_word, end_word, word_list):\n",
    "    # Create a dictionary for quick lookup by first two letters\n",
    "    word_dict = {}\n",
    "    for word in word_list:\n",
    "        key = word[:2]\n",
    "        word_dict.setdefault(key, []).append(word)\n",
    "    \n",
    "    # BFS setup\n",
    "    queue = deque([(start_word, [start_word])])\n",
    "    visited = set([start_word])\n",
    "\n",
    "    while queue:\n",
    "        current_word, path = queue.popleft()\n",
    "\n",
    "        # If the current word is the end word, return the path\n",
    "        if current_word == end_word:\n",
    "            return path\n",
    "        \n",
    "        # Get possible next words\n",
    "        next_words = word_dict.get(current_word[-2:], [])\n",
    "        for next_word in next_words:\n",
    "            if next_word not in visited:\n",
    "                visited.add(next_word)\n",
    "                queue.append((next_word, path + [next_word]))\n",
    "\n",
    "    return None\n",
    "\n",
    "# Load words from the file\n",
    "words = load_words('wordsEn.txt')\n",
    "\n",
    "# Input from user\n",
    "start_word = input(\"Enter the first word: \")\n",
    "end_word = input(\"Enter the second word: \")\n",
    "\n",
    "# Find and print the shortest chain\n",
    "chain = find_shortest_chain(start_word, end_word, words)\n",
    "if chain:\n",
    "    print(\" -> \".join(chain))\n",
    "else:\n",
    "    print(\"No valid chain found.\")\n"
   ]
  }
 ],
 "metadata": {
  "kernelspec": {
   "display_name": "Python 3",
   "language": "python",
   "name": "python3"
  },
  "language_info": {
   "codemirror_mode": {
    "name": "ipython",
    "version": 3
   },
   "file_extension": ".py",
   "mimetype": "text/x-python",
   "name": "python",
   "nbconvert_exporter": "python",
   "pygments_lexer": "ipython3",
   "version": "3.12.4"
  }
 },
 "nbformat": 4,
 "nbformat_minor": 2
}
